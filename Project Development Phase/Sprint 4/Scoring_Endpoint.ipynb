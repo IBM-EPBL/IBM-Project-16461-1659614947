{
 "cells": [
  {
   "cell_type": "code",
   "execution_count": 7,
   "metadata": {},
   "outputs": [
    {
     "name": "stdout",
     "output_type": "stream",
     "text": [
      "Scoring response\n",
      "-1\n",
      "The Website is not secured... Alert!!\n"
     ]
    }
   ],
   "source": [
    "import requests\n",
    "\n",
    "# NOTE: you must manually set API_KEY below using information retrieved from your IBM Cloud account.\n",
    "API_KEY = \"ndND1GnsU_hl6GQC4b4raYiN5mu8FIok2q_U0H_5FcVX\"\n",
    "token_response = requests.post('https://iam.cloud.ibm.com/identity/token', data={\"apikey\":\n",
    " API_KEY, \"grant_type\": 'urn:ibm:params:oauth:grant-type:apikey'})\n",
    "mltoken = token_response.json()[\"access_token\"]\n",
    "\n",
    "header = {'Content-Type': 'application/json', 'Authorization': 'Bearer ' + mltoken}\n",
    "\n",
    "# NOTE: manually define and pass the array(s) of values to be scored in the next line\n",
    "payload_scoring ={\"input_data\": [{\"fields\": [\"index\",\"having_IPhaving_IP_Address\",\"URLURL_Length\",\"Shortining_Service\",\"having_At_Symbol\",\"double_slash_redirecting\",\"having_Sub_Domain\",\"SSLfinal_State\",\"Domain_registeration_length\",\"Favicon\",\"port\",\"HTTPS_token\",\"Request_URL\",\"URL_of_Anchor\",\"Links_in_tags\",\"SFH\",\"Submitting_to_email\",\"Abnormal_URL\",\"Redirect\",\"on_mouseover\",\"RightClick\",\"popUpWidnow\",\"Iframe\",\n",
    "\"age_of_domain\",\"DNSRecord\",\"web_traffic\",\"Page_Rank\",\"Google_Index\",\"Links_pointing_to_page\",\"Statistical_report\",\"Result\"],\"values\": [[1,1,1,1,1,1,1,-1,-1,1,1,1,1,1,-1,1,1,1,1,1,1,0,1,1,1,1,1,1,1,1,1]]}]}\n",
    "response_scoring = requests.post('https://us-south.ml.cloud.ibm.com/ml/v4/deployments/acb49b73-4213-4e87-9c75-e5aa0deca3e6/predictions?version=2022-11-19', json=payload_scoring,\n",
    " headers={'Authorization': 'Bearer ' + mltoken})\n",
    "print(\"Scoring response\")\n",
    "predictions=response_scoring.json()\n",
    "#print(predictions)\n",
    "pred=print(predictions['predictions'][0]['values'][0][0])\n",
    "if(pred == 1):\n",
    "    print(\"The Website is Protected.. click to Continue\")\n",
    "else:\n",
    "    print(\"The Website is not secured... Alert!!\")"
   ]
  }
 ],
 "metadata": {
  "kernelspec": {
   "display_name": "Python 3 (ipykernel)",
   "language": "python",
   "name": "python3"
  },
  "language_info": {
   "codemirror_mode": {
    "name": "ipython",
    "version": 3
   },
   "file_extension": ".py",
   "mimetype": "text/x-python",
   "name": "python",
   "nbconvert_exporter": "python",
   "pygments_lexer": "ipython3",
   "version": "3.9.13"
  }
 },
 "nbformat": 4,
 "nbformat_minor": 1
}
